{
 "cells": [
  {
   "cell_type": "code",
   "execution_count": null,
   "id": "9fb5ffc8",
   "metadata": {},
   "outputs": [],
   "source": [
    "from requests import Request, Session\n",
    "from requests.exceptions import ConnectionError, Timeout, TooManyRedirects\n",
    "import json\n",
    "\n",
    "url = 'https://pro-api.coinmarketcap.com/v1/cryptocurrency/listings/latest'\n",
    "parameters = {\n",
    "    'start':'1',\n",
    "    'limit':'15',\n",
    "    'convert':'USD'\n",
    "}\n",
    "headers = {\n",
    "    'Accepts': 'application/json',\n",
    "    'X-CMC_PRO_API_KEY': 'dbea9faa-0ca7-4395-8945-76b533eab56b',\n",
    "}\n",
    "\n",
    "session = Session()\n",
    "session.headers.update(headers)\n",
    "\n",
    "try:\n",
    "    response = session.get(url, params=parameters)\n",
    "    data = json.loads(response.text)\n",
    "    print(data)\n",
    "except (ConnectionError, Timeout, TooManyRedirects) as e:\n",
    "    print(e)"
   ]
  },
  {
   "cell_type": "code",
   "execution_count": null,
   "id": "82a74d34",
   "metadata": {},
   "outputs": [],
   "source": [
    "type(data)"
   ]
  },
  {
   "cell_type": "code",
   "execution_count": null,
   "id": "f4df0ab9",
   "metadata": {},
   "outputs": [],
   "source": [
    "import pandas as pd\n",
    "\n",
    "\n",
    "# Allows us to see all columns and rows\n",
    "pd.set_option('display.max_columns', None)\n",
    "pd.set_option('display.max_rows', None)"
   ]
  },
  {
   "cell_type": "code",
   "execution_count": null,
   "id": "43dd537b",
   "metadata": {
    "scrolled": true
   },
   "outputs": [],
   "source": [
    "# Normalize and formats the data in a dataframe\n",
    "\n",
    "df = pd.json_normalize(data['data'])\n",
    "\n",
    "# Add a timestamp column to the dataframe\n",
    "df['timestamp'] = pd.to_datetime('now', utc=True)\n",
    "df"
   ]
  },
  {
   "cell_type": "code",
   "execution_count": null,
   "id": "773e7291",
   "metadata": {},
   "outputs": [],
   "source": [
    "def api_runner():\n",
    "    global df\n",
    "    url = 'https://pro-api.coinmarketcap.com/v1/cryptocurrency/listings/latest'\n",
    "    parameters = {\n",
    "        'start':'1',\n",
    "        'limit':'15',\n",
    "        'convert':'USD'\n",
    "    }\n",
    "    headers = {\n",
    "        'Accepts': 'application/json',\n",
    "        'X-CMC_PRO_API_KEY': 'dbea9faa-0ca7-4395-8945-76b533eab56b',\n",
    "    }\n",
    "\n",
    "    session = Session()\n",
    "    session.headers.update(headers)\n",
    "\n",
    "    try:\n",
    "        response = session.get(url, params=parameters)\n",
    "        data = json.loads(response.text)\n",
    "        # print(data)\n",
    "    except (ConnectionError, Timeout, TooManyRedirects) as e:\n",
    "        print(e)\n",
    "        \n",
    "# To use a dataframe\n",
    "        \n",
    "    df2 = pd.json_normalize(data['data'])\n",
    "    df2['Timestamp'] = pd.to_datetime('now', utc=True)\n",
    "    df = pd.concat([df, df2], ignore_index=True)\n",
    "    \n",
    "        \n",
    "# To create a CSV file and append data to it   \n",
    "\n",
    "    # df = pd.json_normalize(data['data'])\n",
    "    # df['timestamp'] = pd.to_datetime('now', utc=True)\n",
    "    # df\n",
    "    \n",
    "    # if not os.path.isfile(r'C:\\Users\\dkbal\\OneDrive\\Documents\\Python Scripts\\API.csv'):\n",
    "    #     df.to_csv(r'C:\\Users\\dkbal\\OneDrive\\Documents\\Python Scripts\\API.csv', header='column_names')\n",
    "    # else:\n",
    "    #     df.to_csv(r'C:\\Users\\dkbal\\OneDrive\\Documents\\Python Scripts\\API.csv', mode='a', header=False)"
   ]
  },
  {
   "cell_type": "code",
   "execution_count": null,
   "id": "e5cd0896",
   "metadata": {},
   "outputs": [],
   "source": [
    "import os\n",
    "from time import time\n",
    "from time import sleep\n",
    "\n",
    "for i in range(333):\n",
    "    api_runner()\n",
    "    print(\"API Runner Completed\")\n",
    "    sleep(60) # sleep for 1 minute\n",
    "exit()"
   ]
  },
  {
   "cell_type": "code",
   "execution_count": null,
   "id": "5a752f10",
   "metadata": {},
   "outputs": [],
   "source": [
    "# To read the data from a CSV if using CSV instead of df\n",
    "\n",
    "df2 = pd.read_csv(r'C:\\Users\\dkbal\\OneDrive\\Documents\\Python Scripts\\API.csv')\n",
    "df2"
   ]
  },
  {
   "cell_type": "code",
   "execution_count": null,
   "id": "b0793eb2",
   "metadata": {},
   "outputs": [],
   "source": [
    "df"
   ]
  },
  {
   "cell_type": "code",
   "execution_count": null,
   "id": "075e53e5",
   "metadata": {},
   "outputs": [],
   "source": [
    "# Change data in scientific notation to numbers\n",
    "\n",
    "pd.set_option('display.float_format', lambda x: '%.5f' % x)"
   ]
  },
  {
   "cell_type": "code",
   "execution_count": null,
   "id": "f07ef4d2",
   "metadata": {},
   "outputs": [],
   "source": [
    "df"
   ]
  },
  {
   "cell_type": "code",
   "execution_count": null,
   "id": "3946646c",
   "metadata": {},
   "outputs": [],
   "source": [
    "# Look at coin trends over time\n",
    "\n",
    "df3 = df.groupby('name', sort=False)[['quote.USD.percent_change_1h', 'quote.USD.percent_change_24h', 'quote.USD.percent_change_7d', 'quote.USD.percent_change_30d', 'quote.USD.percent_change_60d', 'quote.USD.percent_change_90d']].mean()\n",
    "df3"
   ]
  },
  {
   "cell_type": "code",
   "execution_count": null,
   "id": "0a842716",
   "metadata": {},
   "outputs": [],
   "source": [
    "df4 = df3.stack()\n",
    "df4"
   ]
  },
  {
   "cell_type": "code",
   "execution_count": null,
   "id": "b016ec2f",
   "metadata": {},
   "outputs": [],
   "source": [
    "type(df4)"
   ]
  },
  {
   "cell_type": "code",
   "execution_count": null,
   "id": "0e998472",
   "metadata": {},
   "outputs": [],
   "source": [
    "# Change series back to dataframe\n",
    "\n",
    "df5 = df4.to_frame(name='values')\n",
    "df5"
   ]
  },
  {
   "cell_type": "code",
   "execution_count": null,
   "id": "f29b3a8a",
   "metadata": {},
   "outputs": [],
   "source": [
    "df5.count()"
   ]
  },
  {
   "cell_type": "code",
   "execution_count": null,
   "id": "8dc66458",
   "metadata": {},
   "outputs": [],
   "source": [
    "# Re-index the dataframe \n",
    "\n",
    "df6 = df5.reset_index()\n",
    "df6"
   ]
  },
  {
   "cell_type": "code",
   "execution_count": null,
   "id": "57275fd6",
   "metadata": {},
   "outputs": [],
   "source": [
    "# Change column 'level_1' name to 'percent_change'\n",
    "\n",
    "df7 = df6.rename(columns={'level_1': 'percent_change'})\n",
    "df7"
   ]
  },
  {
   "cell_type": "code",
   "execution_count": null,
   "id": "7a0ef978",
   "metadata": {},
   "outputs": [],
   "source": [
    "# Change data in percent_change column to be more readible\n",
    "\n",
    "df7['percent_change'] = df7['percent_change'].replace(['quote.USD.percent_change_1h', 'quote.USD.percent_change_24h', 'quote.USD.percent_change_7d', 'quote.USD.percent_change_30d', 'quote.USD.percent_change_60d', 'quote.USD.percent_change_90d'],['1h','24h','7d','30d','60d','90d'])\n",
    "df7"
   ]
  },
  {
   "cell_type": "code",
   "execution_count": null,
   "id": "26af2bd7",
   "metadata": {},
   "outputs": [],
   "source": [
    "import seaborn as sns\n",
    "import matplotlib as plt"
   ]
  },
  {
   "cell_type": "code",
   "execution_count": null,
   "id": "5f66d324",
   "metadata": {},
   "outputs": [],
   "source": [
    "sns.catplot(x='percent_change', y='values', hue='name', data=df7, kind='point')"
   ]
  },
  {
   "cell_type": "code",
   "execution_count": null,
   "id": "0766215b",
   "metadata": {},
   "outputs": [],
   "source": [
    "# create dataframe with the columns that are wanted\n",
    "\n",
    "df8 = df[['name','quote.USD.price','timestamp']]\n",
    "df8 = df8.query(\"name == 'Bitcoin'\")\n",
    "df8"
   ]
  },
  {
   "cell_type": "code",
   "execution_count": null,
   "id": "93c23af8",
   "metadata": {},
   "outputs": [],
   "source": [
    "sns.set_theme(style='darkgrid')\n",
    "\n",
    "sns.lineplot(x='timestamp',y='quote.USD.price', data=df8)"
   ]
  },
  {
   "cell_type": "code",
   "execution_count": null,
   "id": "56f9863a",
   "metadata": {},
   "outputs": [],
   "source": []
  }
 ],
 "metadata": {
  "kernelspec": {
   "display_name": "Python 3 (ipykernel)",
   "language": "python",
   "name": "python3"
  },
  "language_info": {
   "codemirror_mode": {
    "name": "ipython",
    "version": 3
   },
   "file_extension": ".py",
   "mimetype": "text/x-python",
   "name": "python",
   "nbconvert_exporter": "python",
   "pygments_lexer": "ipython3",
   "version": "3.9.12"
  }
 },
 "nbformat": 4,
 "nbformat_minor": 5
}
